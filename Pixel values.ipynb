{
 "cells": [
  {
   "cell_type": "code",
   "execution_count": 4,
   "id": "32822118",
   "metadata": {},
   "outputs": [],
   "source": [
    "from PIL import Image\n",
    "import cv2\n",
    "import numpy as np\n",
    "import matplotlib.pyplot as plt\n",
    "import torch"
   ]
  },
  {
   "cell_type": "code",
   "execution_count": 54,
   "id": "3f6fe80f",
   "metadata": {
    "scrolled": true
   },
   "outputs": [
    {
     "name": "stdout",
     "output_type": "stream",
     "text": [
      "(320, 240)\n"
     ]
    }
   ],
   "source": [
    "im = Image.open('/home/trojan/Downloads/test_img.png')\n",
    "im = im.convert('RGB')\n",
    "print(im.size)"
   ]
  },
  {
   "cell_type": "code",
   "execution_count": 58,
   "id": "9aebb810",
   "metadata": {},
   "outputs": [
    {
     "name": "stdout",
     "output_type": "stream",
     "text": [
      "55 55 55\n"
     ]
    }
   ],
   "source": [
    "im = im.convert('RGB')\n",
    "r, g, b = im.getpixel((100, 100))\n",
    "\n",
    "print(r, g, b)"
   ]
  },
  {
   "cell_type": "code",
   "execution_count": 79,
   "id": "2727ca6b",
   "metadata": {},
   "outputs": [
    {
     "name": "stdout",
     "output_type": "stream",
     "text": [
      "[55 55 55]\n"
     ]
    }
   ],
   "source": [
    "img = cv2.imread('/home/trojan/Downloads/test_img.png', 1)\n",
    "print(img[100, 100])"
   ]
  },
  {
   "cell_type": "code",
   "execution_count": 67,
   "id": "13e60640",
   "metadata": {},
   "outputs": [
    {
     "name": "stdout",
     "output_type": "stream",
     "text": [
      "[[  0 244]\n",
      " [  0 245]\n",
      " [  1 213]\n",
      " [  1 296]\n",
      " [  2 212]\n",
      " [  3 210]\n",
      " [  4 206]\n",
      " [  4 207]\n",
      " [  4 209]\n",
      " [  5 201]\n",
      " [  5 207]\n",
      " [ 11 302]\n",
      " [ 12 302]\n",
      " [ 16 192]\n",
      " [ 17 188]\n",
      " [ 17 190]\n",
      " [ 18 177]\n",
      " [ 18 188]\n",
      " [ 18 189]\n",
      " [ 19 177]\n",
      " [ 19 179]\n",
      " [ 19 180]\n",
      " [ 19 187]\n",
      " [ 20 177]\n",
      " [ 20 178]\n",
      " [ 22 166]\n",
      " [ 22 167]\n",
      " [ 23 166]\n",
      " [ 29 167]\n",
      " [ 34 169]\n",
      " [ 36 170]\n",
      " [ 37 171]\n",
      " [ 37 172]\n",
      " [ 38 172]\n",
      " [ 38 173]\n",
      " [ 38 174]\n",
      " [ 38 175]\n",
      " [ 38 201]\n",
      " [ 39 173]\n",
      " [ 39 174]\n",
      " [ 39 175]\n",
      " [ 39 176]\n",
      " [ 39 177]\n",
      " [ 39 184]\n",
      " [ 39 200]\n",
      " [ 39 201]\n",
      " [ 39 202]\n",
      " [ 39 203]\n",
      " [ 40 175]\n",
      " [ 40 176]\n",
      " [ 40 177]\n",
      " [ 40 178]\n",
      " [ 40 179]\n",
      " [ 40 180]\n",
      " [ 40 181]\n",
      " [ 40 182]\n",
      " [ 40 184]\n",
      " [ 41 175]\n",
      " [ 41 176]\n",
      " [ 41 177]\n",
      " [ 41 178]\n",
      " [ 41 179]\n",
      " [ 41 180]\n",
      " [ 41 181]\n",
      " [ 41 182]\n",
      " [ 41 183]\n",
      " [ 41 184]\n",
      " [ 41 185]\n",
      " [ 41 187]\n",
      " [ 41 193]\n",
      " [ 41 194]\n",
      " [ 41 195]\n",
      " [ 41 198]\n",
      " [ 41 200]\n",
      " [ 41 203]\n",
      " [ 42 176]\n",
      " [ 42 177]\n",
      " [ 42 178]\n",
      " [ 42 179]\n",
      " [ 42 180]\n",
      " [ 42 181]\n",
      " [ 42 182]\n",
      " [ 42 183]\n",
      " [ 42 184]\n",
      " [ 42 185]\n",
      " [ 42 186]\n",
      " [ 42 187]\n",
      " [ 42 188]\n",
      " [ 42 193]\n",
      " [ 42 194]\n",
      " [ 42 195]\n",
      " [ 42 196]\n",
      " [ 42 197]\n",
      " [ 42 198]\n",
      " [ 42 199]\n",
      " [ 42 200]\n",
      " [ 42 201]\n",
      " [ 43 178]\n",
      " [ 43 179]\n",
      " [ 43 180]\n",
      " [ 43 181]\n",
      " [ 43 182]\n",
      " [ 43 183]\n",
      " [ 43 184]\n",
      " [ 43 185]\n",
      " [ 43 186]\n",
      " [ 43 187]\n",
      " [ 43 188]\n",
      " [ 43 194]\n",
      " [ 43 195]\n",
      " [ 43 196]\n",
      " [ 43 197]\n",
      " [ 43 198]\n",
      " [ 43 199]\n",
      " [ 43 200]\n",
      " [ 43 201]\n",
      " [ 44 180]\n",
      " [ 44 183]\n",
      " [ 44 184]\n",
      " [ 44 185]\n",
      " [ 44 186]\n",
      " [ 44 187]\n",
      " [ 44 188]\n",
      " [ 44 197]\n",
      " [ 44 199]\n",
      " [ 44 200]\n",
      " [ 44 201]\n",
      " [ 44 202]\n",
      " [ 44 203]\n",
      " [ 44 207]\n",
      " [ 44 253]\n",
      " [ 45 185]\n",
      " [ 45 186]\n",
      " [ 45 187]\n",
      " [ 45 188]\n",
      " [ 45 199]\n",
      " [ 45 201]\n",
      " [ 45 202]\n",
      " [ 45 203]\n",
      " [ 45 204]\n",
      " [ 45 205]\n",
      " [ 45 206]\n",
      " [ 45 207]\n",
      " [ 45 208]\n",
      " [ 45 253]\n",
      " [ 46 187]\n",
      " [ 46 188]\n",
      " [ 46 189]\n",
      " [ 46 203]\n",
      " [ 46 204]\n",
      " [ 46 205]\n",
      " [ 46 206]\n",
      " [ 46 207]\n",
      " [ 46 208]\n",
      " [ 46 209]\n",
      " [ 46 210]\n",
      " [ 46 254]\n",
      " [ 47 188]\n",
      " [ 47 189]\n",
      " [ 47 206]\n",
      " [ 47 207]\n",
      " [ 47 208]\n",
      " [ 47 209]\n",
      " [ 47 210]\n",
      " [ 47 211]\n",
      " [ 47 212]\n",
      " [ 47 220]\n",
      " [ 47 221]\n",
      " [ 47 254]\n",
      " [ 47 255]\n",
      " [ 48 208]\n",
      " [ 48 209]\n",
      " [ 48 210]\n",
      " [ 48 211]\n",
      " [ 48 212]\n",
      " [ 48 218]\n",
      " [ 48 220]\n",
      " [ 48 221]\n",
      " [ 49 212]\n",
      " [ 49 219]\n",
      " [ 49 220]\n",
      " [ 49 221]\n",
      " [ 49 223]\n",
      " [ 49 224]\n",
      " [ 49 225]\n",
      " [ 49 226]\n",
      " [ 50 221]\n",
      " [ 50 222]\n",
      " [ 50 223]\n",
      " [ 50 224]\n",
      " [ 50 225]\n",
      " [ 50 226]\n",
      " [ 51 223]\n",
      " [ 51 224]\n",
      " [ 51 226]\n",
      " [ 51 227]\n",
      " [ 51 228]\n",
      " [ 51 229]\n",
      " [ 52 227]\n",
      " [ 52 228]\n",
      " [ 52 229]\n",
      " [ 52 230]\n",
      " [ 52 231]\n",
      " [ 52 232]\n",
      " [ 53 229]\n",
      " [ 53 232]\n",
      " [ 53 236]\n",
      " [ 53 241]\n",
      " [ 54 232]\n",
      " [ 54 237]\n",
      " [ 54 238]\n",
      " [ 54 239]\n",
      " [ 54 240]\n",
      " [ 54 241]\n",
      " [ 54 242]\n",
      " [ 54 243]\n",
      " [ 55 237]\n",
      " [ 55 238]\n",
      " [ 55 239]\n",
      " [ 55 240]\n",
      " [ 55 243]\n",
      " [ 55 244]\n",
      " [ 56 239]\n",
      " [ 56 244]\n",
      " [ 56 245]\n",
      " [ 60 240]]\n"
     ]
    }
   ],
   "source": [
    "color = (190, 190, 190)\n",
    "indices = np.argwhere(img == color)\n",
    "indices = indices[::3][:, [0, 1]]\n",
    "print(indices)"
   ]
  },
  {
   "cell_type": "code",
   "execution_count": 91,
   "id": "02c86d3e",
   "metadata": {},
   "outputs": [
    {
     "name": "stdout",
     "output_type": "stream",
     "text": [
      "[69 69 69]\n"
     ]
    }
   ],
   "source": [
    "img = cv2.imread('/home/trojan/Downloads/test_img.png', 1)\n",
    "print(img[50, 50]) # Should be same as flipped unity"
   ]
  },
  {
   "cell_type": "code",
   "execution_count": 92,
   "id": "678cc28c",
   "metadata": {},
   "outputs": [
    {
     "data": {
      "image/png": "[encoded data removed]",
      "text/plain": [
       "<Figure size 432x288 with 1 Axes>"
      ]
     },
     "metadata": {
      "needs_background": "light"
     },
     "output_type": "display_data"
    },
    {
     "data": {
      "image/png": "[encoded data removed]",
      "text/plain": [
       "<Figure size 432x288 with 1 Axes>"
      ]
     },
     "metadata": {
      "needs_background": "light"
     },
     "output_type": "display_data"
    },
    {
     "data": {
      "text/plain": [
       "(<matplotlib.image.AxesImage at 0x7f86d442fb80>,\n",
       " Text(0.5, 1.0, 'flip vertical with inverted y-axis'),\n",
       " None,\n",
       " None)"
      ]
     },
     "execution_count": 92,
     "metadata": {},
     "output_type": "execute_result"
    }
   ],
   "source": [
    "flip = img[::-1,:,:]\n",
    "plt.imshow(img[:,:,::-1]), plt.title('original'), plt.show()\n",
    "plt.imshow(flip[:,:,::-1]), plt.title('flip vertical with inverted y-axis'), plt.gca().invert_yaxis(), plt.show()"
   ]
  },
  {
   "cell_type": "code",
   "execution_count": 93,
   "id": "6fce41b2",
   "metadata": {},
   "outputs": [
    {
     "name": "stdout",
     "output_type": "stream",
     "text": [
      "[50 50 50]\n"
     ]
    }
   ],
   "source": [
    "print(flip[50, 50]) # Should be same as original unity"
   ]
  },
  {
   "cell_type": "code",
   "execution_count": null,
   "id": "4766b36e",
   "metadata": {},
   "outputs": [],
   "source": [
    "# Reverse height to get (0,0) in bottom left corner like unity"
   ]
  },
  {
   "cell_type": "code",
   "execution_count": null,
   "id": "c73d1e72",
   "metadata": {},
   "outputs": [],
   "source": [
    "#######################################################333"
   ]
  },
  {
   "cell_type": "code",
   "execution_count": null,
   "id": "81658a28",
   "metadata": {},
   "outputs": [],
   "source": [
    "# checking input dimensions"
   ]
  },
  {
   "cell_type": "code",
   "execution_count": 50,
   "id": "758498c9",
   "metadata": {},
   "outputs": [
    {
     "name": "stdout",
     "output_type": "stream",
     "text": [
      "(240, 320, 3)\n"
     ]
    }
   ],
   "source": [
    "img = cv2.imread('/home/trojan/Downloads/test_img.png', 1)\n",
    "print(img.shape)"
   ]
  },
  {
   "cell_type": "code",
   "execution_count": 51,
   "id": "452ce402",
   "metadata": {},
   "outputs": [],
   "source": [
    "img = torch.from_numpy(img)"
   ]
  },
  {
   "cell_type": "code",
   "execution_count": 52,
   "id": "a346a7ce",
   "metadata": {},
   "outputs": [],
   "source": [
    "img = img.permute(2, 0, 1)"
   ]
  },
  {
   "cell_type": "code",
   "execution_count": 53,
   "id": "a5ee6634",
   "metadata": {},
   "outputs": [
    {
     "name": "stdout",
     "output_type": "stream",
     "text": [
      "torch.Size([3, 240, 320])\n"
     ]
    }
   ],
   "source": [
    "print(img.shape)"
   ]
  },
  {
   "cell_type": "code",
   "execution_count": 54,
   "id": "2896a26e",
   "metadata": {},
   "outputs": [
    {
     "name": "stdout",
     "output_type": "stream",
     "text": [
      "torch.Size([1, 3, 240, 320])\n"
     ]
    }
   ],
   "source": [
    "img = img.unsqueeze(0)\n",
    "print(img.shape)"
   ]
  },
  {
   "cell_type": "code",
   "execution_count": 55,
   "id": "ba31da78",
   "metadata": {},
   "outputs": [],
   "source": [
    "# Unity onnx has (1, 240, 320, 3), fix that"
   ]
  },
  {
   "cell_type": "code",
   "execution_count": 56,
   "id": "18671acf",
   "metadata": {},
   "outputs": [],
   "source": [
    "############################################################3"
   ]
  },
  {
   "cell_type": "code",
   "execution_count": 57,
   "id": "a66a3ba7",
   "metadata": {},
   "outputs": [],
   "source": [
    "# compare normalized pixel values with unity"
   ]
  },
  {
   "cell_type": "code",
   "execution_count": 58,
   "id": "0f56d9f7",
   "metadata": {},
   "outputs": [],
   "source": [
    "import torchvision.transforms as T"
   ]
  },
  {
   "cell_type": "code",
   "execution_count": 59,
   "id": "8d913803",
   "metadata": {},
   "outputs": [],
   "source": [
    "# Utility to apply transforms\n",
    "def get_transform():\n",
    "  mean = (0.5)\n",
    "  std = (0.5)\n",
    "  normalize = T.Normalize(mean=mean, std=std)\n",
    "  return T.Compose([normalize])"
   ]
  },
  {
   "cell_type": "code",
   "execution_count": 60,
   "id": "50a2a964",
   "metadata": {},
   "outputs": [],
   "source": [
    "img = img.float()\n",
    "img = get_transform()(img)"
   ]
  },
  {
   "cell_type": "code",
   "execution_count": 61,
   "id": "0ffbdebe",
   "metadata": {},
   "outputs": [
    {
     "name": "stdout",
     "output_type": "stream",
     "text": [
      "torch.Size([1, 3, 240, 320])\n"
     ]
    }
   ],
   "source": [
    "print(img.shape)"
   ]
  },
  {
   "cell_type": "code",
   "execution_count": 67,
   "id": "939d3f84",
   "metadata": {},
   "outputs": [
    {
     "name": "stdout",
     "output_type": "stream",
     "text": [
      "tensor([[159., 159., 159.]])\n"
     ]
    }
   ],
   "source": [
    "print(img[:, :, 25, 25])"
   ]
  },
  {
   "cell_type": "code",
   "execution_count": null,
   "id": "44131800",
   "metadata": {},
   "outputs": [],
   "source": []
  }
 ],
 "metadata": {
  "kernelspec": {
   "display_name": "Python 3",
   "language": "python",
   "name": "python3"
  },
  "language_info": {
   "codemirror_mode": {
    "name": "ipython",
    "version": 3
   },
   "file_extension": ".py",
   "mimetype": "text/x-python",
   "name": "python",
   "nbconvert_exporter": "python",
   "pygments_lexer": "ipython3",
   "version": "3.9.6"
  }
 },
 "nbformat": 4,
 "nbformat_minor": 5
}
